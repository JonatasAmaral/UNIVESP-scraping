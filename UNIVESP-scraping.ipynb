{
 "cells": [
  {
   "cell_type": "markdown",
   "source": [
    "## pegar dados de usuário"
   ],
   "metadata": {}
  },
  {
   "cell_type": "code",
   "execution_count": 198,
   "source": [
    "import os\r\n",
    "from dotenv import load_dotenv\r\n",
    "\r\n",
    "load_dotenv()\r\n",
    "\r\n",
    "MAIL = os.getenv('UNIVESP_MAIL')\r\n",
    "KEY = os.getenv('UNIVESP_KEY')\r\n",
    "MAIL, KEY"
   ],
   "outputs": [
    {
     "output_type": "execute_result",
     "data": {
      "text/plain": [
       "('1820642@aluno.univesp.br', 'reqdsavxz01')"
      ]
     },
     "metadata": {},
     "execution_count": 198
    }
   ],
   "metadata": {}
  },
  {
   "cell_type": "raw",
   "source": [
    "with open('.env', 'r') as fh:\r\n",
    "    ENV = dict(\r\n",
    "        tuple( line.strip().replace('\"','').split('=') )\r\n",
    "        for line in fh.readlines() if not line.startswith('#')\r\n",
    "    )\r\n",
    "\r\n",
    "print(ENV)"
   ],
   "metadata": {}
  },
  {
   "cell_type": "markdown",
   "source": [
    "## importar bibliotecas"
   ],
   "metadata": {}
  },
  {
   "cell_type": "code",
   "execution_count": 199,
   "source": [
    "from selenium import webdriver\r\n",
    "from selenium.webdriver.common.keys import Keys\r\n",
    "from selenium.webdriver.remote.webdriver import WebDriver\r\n",
    "from selenium.webdriver.remote.webelement import WebElement \r\n"
   ],
   "outputs": [],
   "metadata": {}
  },
  {
   "cell_type": "code",
   "execution_count": 200,
   "source": [
    "import time\r\n",
    "import json\r\n",
    "import re\r\n",
    "from typing import List, Dict"
   ],
   "outputs": [],
   "metadata": {}
  },
  {
   "cell_type": "markdown",
   "source": [
    "## Definições globais"
   ],
   "metadata": {}
  },
  {
   "cell_type": "code",
   "execution_count": 201,
   "source": [
    "ava_website = \"https://ava.univesp.br\"\r\n",
    "\r\n",
    "semana = 1"
   ],
   "outputs": [],
   "metadata": {}
  },
  {
   "cell_type": "code",
   "execution_count": 212,
   "source": [
    "class selenium_mergulhar_iframes_univesp:\r\n",
    "  def entrar_iframes(self):\r\n",
    "    driver = self._driver\r\n",
    "    driver.switch_to.default_content()\r\n",
    "\r\n",
    "    for iframe_selector in self._iframes_list:\r\n",
    "      try:\r\n",
    "        iframe = driver.find_element_by_css_selector(iframe_selector)\r\n",
    "        driver.switch_to.frame(iframe)\r\n",
    "      except:\r\n",
    "        print('iframe $(\"%s\") não encontrado. Continuando ainda assim...'%iframe_selector)\r\n",
    "  def sair_iframes(self):\r\n",
    "    driver.switch_to.default_content()\r\n",
    "\r\n",
    "  def __enter__(self):\r\n",
    "    self.entrar_iframes()\r\n",
    "  def __exit__(self, exp_type, exp_val, exp_trace):\r\n",
    "    self.sair_iframes()\r\n",
    "  def __init__(self, driver:WebDriver, iframes_list:List[str]=['iframe']):\r\n",
    "    self._driver = driver\r\n",
    "    self._iframes_list = iframes_list\r\n"
   ],
   "outputs": [],
   "metadata": {}
  },
  {
   "cell_type": "markdown",
   "source": [
    "## Acessos gerais ao AVA"
   ],
   "metadata": {}
  },
  {
   "cell_type": "code",
   "execution_count": 203,
   "source": [
    "# função que acessa AVA com Selenium\r\n",
    "# (deve ser fechado manualmente depois \r\n",
    "# por razões de multiplas célula no notebook)\r\n",
    "def acessar_ava(driver:WebDriver=None)->WebDriver:\r\n",
    "  if driver == None: driver = webdriver.Chrome()\r\n",
    "  \r\n",
    "  # abrir ava da univesp\r\n",
    "  driver.get(ava_website)\r\n",
    "  driver.execute_script('document.querySelector(\"#login-sou\").click()')\r\n",
    "\r\n",
    "  # fazer login\r\n",
    "  # email\r\n",
    "  driver.find_element_by_css_selector(\"input#username\").send_keys([MAIL, Keys.ENTER])\r\n",
    "  # senha\r\n",
    "  driver.find_element_by_css_selector(\"input#password\").send_keys([KEY, Keys.ENTER])\r\n",
    "\r\n",
    "  time.sleep(5)\r\n",
    "\r\n",
    "  return driver"
   ],
   "outputs": [],
   "metadata": {}
  },
  {
   "cell_type": "code",
   "execution_count": 204,
   "source": [
    "def pegar_lista_de_materias(driver:WebDriver)->Dict[str,WebElement]:\r\n",
    "  # acessar home das materias\r\n",
    "  driver.get('https://ava.univesp.br/ultra/course')\r\n",
    "  time.sleep(5)\r\n",
    "\r\n",
    "  cartoes_materias = driver.find_elements_by_css_selector(\".default-group.term-_67_1  .course-element-card\")\r\n",
    "  driver.execute_script('arguments[0].scrollIntoView({behavior:\"smooth\", block: \"center\"});', cartoes_materias[-1])\r\n",
    "  time.sleep(5)\r\n",
    "\r\n",
    "  # pegar lista das materias\r\n",
    "  return {\r\n",
    "    m.find_element_by_css_selector(\"h4\").text.replace(\" - Turma 001\", '')\r\n",
    "    :\r\n",
    "    m\r\n",
    "    for m in cartoes_materias\r\n",
    "  }"
   ],
   "outputs": [],
   "metadata": {}
  },
  {
   "cell_type": "markdown",
   "source": [
    "## Pegar informações das matérias do bimestre"
   ],
   "metadata": {}
  },
  {
   "cell_type": "code",
   "execution_count": 213,
   "source": [
    "def pegar_info_materias(driver:WebDriver, materias:Dict[str,WebElement])->Dict[str,Dict]:\r\n",
    "  '''\r\n",
    "  montar JSON com info bimestral das matérias:\r\n",
    "    titulo: {\r\n",
    "      link\r\n",
    "      plano de aula\r\n",
    "      carga horaria\r\n",
    "    }\r\n",
    "  '''\r\n",
    "\r\n",
    "  info_materias = {}\r\n",
    "\r\n",
    "  # para cada materia\r\n",
    "  for titulo, materia in materias.items():\r\n",
    "\r\n",
    "    # abre materia\r\n",
    "    driver.execute_script(r'arguments[0].scrollIntoView({behavior:\"smooth\", block: \"center\"});', materia)\r\n",
    "    time.sleep(1) # espera 2 segundos para carregar\r\n",
    "    materia.click()\r\n",
    "    time.sleep(2) # espera 2 segundos para carregar\r\n",
    "\r\n",
    "    # pega link da materia\r\n",
    "    link = driver.current_url\r\n",
    "\r\n",
    "    # entra no conteudo da univesp dentro dos iframes\r\n",
    "    with selenium_mergulhar_iframes_univesp(driver, ['iframe']*2):\r\n",
    "      # pega link do plano de aula\r\n",
    "      plano_de_aula = driver.find_element_by_css_selector(\"a.btn.btn-syllabus\").get_attribute('href')\r\n",
    "\r\n",
    "      # pega carga horaria\r\n",
    "      carga_horaria = driver.find_element_by_css_selector(\".planejamento-estudo strong\").text[:-6]\r\n",
    "\r\n",
    "    # fecha matéria, retornando pra home\r\n",
    "    driver.find_element_by_css_selector(\"button.bb-close\").click()\r\n",
    "\r\n",
    "    # guardar dados\r\n",
    "    info_materias[titulo] = {\r\n",
    "      \"titulo\": titulo,\r\n",
    "      \"link\": link,\r\n",
    "      \"plano_de_aula\": plano_de_aula,\r\n",
    "      \"carga_horaria\": carga_horaria,\r\n",
    "    }\r\n",
    "\r\n",
    "  return info_materias"
   ],
   "outputs": [],
   "metadata": {}
  },
  {
   "cell_type": "code",
   "execution_count": 215,
   "source": [
    "def pegar_links_semanas(driver:WebDriver, materias:Dict[str,WebElement], semanas:List[int]=None )->Dict[str, Dict[str,str]]:\r\n",
    "  '''\r\n",
    "  montar JSON com info semanal das matérias:\r\n",
    "    titulo: {\r\n",
    "      semana#: 'http...'\r\n",
    "    }\r\n",
    "  '''\r\n",
    "\r\n",
    "  if not semanas: semanas = list(range(1,8))\r\n",
    "  saida = {}\r\n",
    "\r\n",
    "  for titulo, materia in materias.items():\r\n",
    "    driver.execute_script(r'arguments[0].scrollIntoView({behavior:\"smooth\", block: \"center\"});', materia)\r\n",
    "\r\n",
    "    time.sleep(1) # espera 2 segundos para carregar\r\n",
    "    materia.click()\r\n",
    "    time.sleep(2) # espera 2 segundos para carregar\r\n",
    "  \r\n",
    "    # entrar no iframe do conteudo da pagina\r\n",
    "    with selenium_mergulhar_iframes_univesp(driver, ['iframe']):\r\n",
    "      # pegar links das semanas\r\n",
    "      links_menu = driver.find_elements_by_css_selector(\"#courseMenuPalette_contents .subhead ~ li a\")\r\n",
    "      text = lambda x: driver.execute_script('return arguments[0].innerText', x).lower()\r\n",
    "      # links_semanas = [link.get_attribute('href') for link in links_menu if text(link)[:6]=='Semana' and text(link)[:-1] in semanas]\r\n",
    "      links_semanas = {\r\n",
    "        text(link).replace(\" \", \"_\") :\r\n",
    "        link.get_attribute('href') for link in links_menu if text(link) in ['semana %s'%n for n in semanas]  \r\n",
    "      }\r\n",
    "\r\n",
    "      saida[titulo] = links_semanas\r\n",
    "     \r\n",
    "    # fecha matéria, retornando pra home\r\n",
    "    driver.find_element_by_css_selector(\"button.bb-close\").click()\r\n",
    "    \r\n",
    "  return saida\r\n"
   ],
   "outputs": [],
   "metadata": {}
  },
  {
   "cell_type": "markdown",
   "source": [
    "## Pegar aulas, e exercicios"
   ],
   "metadata": {}
  },
  {
   "cell_type": "code",
   "execution_count": 208,
   "source": [
    "def pegar_info_aulas(link_semana:str, nome_semana:str='', driver:WebDriver=None ):\r\n",
    "  '''\r\n",
    "    pegar estrutura JSON de video aulas de uma semana de uma materia:\r\n",
    "    {\r\n",
    "      \"titulo\": \"titulo do video\",\r\n",
    "      \"numero\": 0,\r\n",
    "      \"url\": \"youtube...\",\r\n",
    "      \"thumb\": \"...jpg\",\r\n",
    "    }\r\n",
    "  '''\r\n",
    "\r\n",
    "  # se não informado um driver, cria um de Chrome\r\n",
    "  localDriver = False\r\n",
    "  if driver == None:\r\n",
    "    driver = acessar_ava()\r\n",
    "    localDriver = True\r\n",
    "\r\n",
    "  saida = []\r\n",
    "\r\n",
    "  # acessar home das materias\r\n",
    "  driver.get(link_semana)\r\n",
    "  time.sleep(3)\r\n",
    "\r\n",
    "  # itens de cada tipo de conteúdo\r\n",
    "  itens_pagina = driver.find_elements_by_css_selector('.liItem')\r\n",
    "  itens_video_aulas = [i for i in itens_pagina if i.text.lower().startswith('videoaula')]\r\n",
    "  itens_quiz = [i for i in itens_pagina if i.text.lower().startswith('quiz')]\r\n",
    "  itens_exercicios_apoio = [i for i in itens_pagina if re.search(\"Exer.+Apoio\", i.text, flags=re.I)]\r\n",
    "  itens_atividades = [i for i in itens_pagina if re.search(\"avalia\", i.text, flags=re.I)]\r\n",
    "\r\n",
    "\r\n",
    "  # pegar contudos em si\r\n",
    "\r\n",
    "  # pegar videoaulas\r\n",
    "  for aula in itens_video_aulas:\r\n",
    "\r\n",
    "    titulo_video = aula.find_element_by_css_selector('h3').text\r\n",
    "\r\n",
    "    match_numero = re.search(\"videoaula \\d+\",titulo_video,flags=re.I)\r\n",
    "    numero_aula = nome_semana[-1:]\r\n",
    "    if match_numero:\r\n",
    "      numero_aula = int(match_numero.group()[10:])\r\n",
    "\r\n",
    "\r\n",
    "    # with selenium_mergulhar_iframes_univesp(['iframe']):\r\n",
    "    driver.switch_to.default_content()\r\n",
    "    iframe1 = aula.find_element_by_css_selector('iframe')\r\n",
    "    driver.switch_to.frame(iframe1)\r\n",
    "\r\n",
    "    # pegar url video do youtube\r\n",
    "    iframe2 = driver.find_element_by_css_selector('iframe')\r\n",
    "    url_aula = iframe2.get_attribute('src')\r\n",
    "\r\n",
    "    # with selenium_mergulhar_iframes_univesp(['iframe']):\r\n",
    "    driver.switch_to.frame(iframe2)\r\n",
    "\r\n",
    "    # pegar thumbnail video youtube\r\n",
    "    thumb_aula = re.search(\r\n",
    "      'http.+\\.\\w+',\r\n",
    "      driver.find_element_by_css_selector('.ytp-cued-thumbnail-overlay-image').get_attribute('style'),\r\n",
    "      flags=re.I\r\n",
    "    ).group()\r\n",
    "\r\n",
    "    infos_aula = {\r\n",
    "      \"titulo\": titulo_video,\r\n",
    "      \"numero\": numero_aula,\r\n",
    "      \"url\": url_aula,\r\n",
    "      \"thumb\": thumb_aula,\r\n",
    "    }\r\n",
    "\r\n",
    "    # guardar dados da aula na saida\r\n",
    "    driver.switch_to.default_content()\r\n",
    "    saida.append(infos_aula)\r\n",
    "\r\n",
    "  # TODO: pegar quizes\r\n",
    "  # TODO: pegar atividades\r\n",
    "  # TODO: pegar exercícios de apoio\r\n",
    "\r\n",
    "  if localDriver:\r\n",
    "    driver.quit()\r\n",
    "\r\n",
    "  return saida\r\n"
   ],
   "outputs": [],
   "metadata": {}
  },
  {
   "cell_type": "markdown",
   "source": [
    "## Execução e montagem de JSON no squema proposto"
   ],
   "metadata": {}
  },
  {
   "cell_type": "markdown",
   "source": [
    "----"
   ],
   "metadata": {}
  },
  {
   "cell_type": "code",
   "execution_count": 217,
   "source": [
    "driver = acessar_ava()\r\n",
    "materias_atuais = pegar_lista_de_materias(driver)\r\n",
    "info_materias = pegar_info_materias(driver, materias_atuais)\r\n",
    "links_semanas = pegar_links_semanas(driver, materias_atuais)"
   ],
   "outputs": [],
   "metadata": {}
  },
  {
   "cell_type": "code",
   "execution_count": 225,
   "source": [
    "for materia in links_semanas:\r\n",
    "  \r\n",
    "  if 'links_semanas' not in info_materias[materia].keys():\r\n",
    "    info_materias[materia]['links_semanas'] = {}\r\n",
    "  info_materias[materia]['links_semanas'].update(links_semanas[materia])\r\n",
    "\r\n",
    "print(json.dumps(info_materias, ensure_ascii=False ,indent=4))"
   ],
   "outputs": [
    {
     "output_type": "stream",
     "name": "stdout",
     "text": [
      "{\n",
      "    \"Engenharia de Software – EES001\": {\n",
      "        \"titulo\": \"Engenharia de Software – EES001\",\n",
      "        \"link\": \"https://ava.univesp.br/ultra/courses/_4646_1/cl/outline\",\n",
      "        \"plano_de_aula\": \"https://ava.univesp.br/bbcswebdav/xid-3651390_1\",\n",
      "        \"carga_horaria\": \"80\",\n",
      "        \"links_semanas\": {\n",
      "            \"semana_1\": \"https://ava.univesp.br/webapps/blackboard/content/listContent.jsp?course_id=_4646_1&content_id=_607081_1&mode=reset\",\n",
      "            \"semana_2\": \"https://ava.univesp.br/webapps/blackboard/content/listContent.jsp?course_id=_4646_1&content_id=_607082_1&mode=reset\"\n",
      "        }\n",
      "    },\n",
      "    \"Introdução aos Sistemas de Comunicação – EEL001\": {\n",
      "        \"titulo\": \"Introdução aos Sistemas de Comunicação – EEL001\",\n",
      "        \"link\": \"https://ava.univesp.br/ultra/courses/_4640_1/cl/outline\",\n",
      "        \"plano_de_aula\": \"https://ava.univesp.br/bbcswebdav/pid-606257-dt-content-rid-3904963_1/courses/EEL001-2021S2B1C2-T001/EEL001/Slides/Semana%200%20-%20Plano%20de%20Ensino%20-%20Introdu%C3%A7%C3%A3o%20aos%20Sistemas%20de%20Comunica%C3%A7%C3%A3o%20-%20EEl001%20(1)_rev..pdf\",\n",
      "        \"carga_horaria\": \"20\",\n",
      "        \"links_semanas\": {\n",
      "            \"semana_1\": \"https://ava.univesp.br/webapps/blackboard/content/listContent.jsp?course_id=_4640_1&content_id=_606255_1&mode=reset\",\n",
      "            \"semana_2\": \"https://ava.univesp.br/webapps/blackboard/content/listContent.jsp?course_id=_4640_1&content_id=_606244_1&mode=reset\"\n",
      "        }\n",
      "    },\n",
      "    \"Modelos Probabilísticos para Computação – EEM101\": {\n",
      "        \"titulo\": \"Modelos Probabilísticos para Computação – EEM101\",\n",
      "        \"link\": \"https://ava.univesp.br/ultra/courses/_4644_1/cl/outline\",\n",
      "        \"plano_de_aula\": \"https://ava.univesp.br/bbcswebdav/xid-3656567_1\",\n",
      "        \"carga_horaria\": \"40\",\n",
      "        \"links_semanas\": {\n",
      "            \"semana_1\": \"https://ava.univesp.br/webapps/blackboard/content/listContent.jsp?course_id=_4644_1&content_id=_606810_1&mode=reset\",\n",
      "            \"semana_2\": \"https://ava.univesp.br/webapps/blackboard/content/listContent.jsp?course_id=_4644_1&content_id=_606809_1&mode=reset\"\n",
      "        }\n",
      "    },\n",
      "    \"Projeto e Análise de Algoritmos – EEM002\": {\n",
      "        \"titulo\": \"Projeto e Análise de Algoritmos – EEM002\",\n",
      "        \"link\": \"https://ava.univesp.br/ultra/courses/_4642_1/cl/outline\",\n",
      "        \"plano_de_aula\": \"https://ava.univesp.br/bbcswebdav/xid-3349121_1\",\n",
      "        \"carga_horaria\": \"40\",\n",
      "        \"links_semanas\": {\n",
      "            \"semana_1\": \"https://ava.univesp.br/webapps/blackboard/content/listContent.jsp?course_id=_4642_1&content_id=_606532_1&mode=reset\",\n",
      "            \"semana_2\": \"https://ava.univesp.br/webapps/blackboard/content/listContent.jsp?course_id=_4642_1&content_id=_606531_1&mode=reset\"\n",
      "        }\n",
      "    }\n",
      "}\n"
     ]
    }
   ],
   "metadata": {}
  },
  {
   "cell_type": "code",
   "execution_count": 227,
   "source": [
    "driver"
   ],
   "outputs": [
    {
     "output_type": "execute_result",
     "data": {
      "text/plain": [
       "<selenium.webdriver.chrome.webdriver.WebDriver (session=\"f6d9f81ae124ca70bf1b566c9b2c36ca\")>"
      ]
     },
     "metadata": {},
     "execution_count": 227
    }
   ],
   "metadata": {}
  },
  {
   "cell_type": "code",
   "execution_count": 228,
   "source": [
    "for materia in info_materias.values():\r\n",
    "  materia['videoaulas'] = {}\r\n",
    "  for semana, link in materia['links_semanas'].items():\r\n",
    "    materia['videoaulas'][semana] = pegar_info_aulas(link, semana, driver=driver)\r\n",
    "\r\n",
    "print(json.dumps(info_materias, ensure_ascii=False, indent=4))"
   ],
   "outputs": [
    {
     "output_type": "stream",
     "name": "stdout",
     "text": [
      "{\n",
      "    \"Engenharia de Software – EES001\": {\n",
      "        \"titulo\": \"Engenharia de Software – EES001\",\n",
      "        \"link\": \"https://ava.univesp.br/ultra/courses/_4646_1/cl/outline\",\n",
      "        \"plano_de_aula\": \"https://ava.univesp.br/bbcswebdav/xid-3651390_1\",\n",
      "        \"carga_horaria\": \"80\",\n",
      "        \"links_semanas\": {\n",
      "            \"semana_1\": \"https://ava.univesp.br/webapps/blackboard/content/listContent.jsp?course_id=_4646_1&content_id=_607081_1&mode=reset\",\n",
      "            \"semana_2\": \"https://ava.univesp.br/webapps/blackboard/content/listContent.jsp?course_id=_4646_1&content_id=_607082_1&mode=reset\"\n",
      "        },\n",
      "        \"videoaulas\": {\n",
      "            \"semana_1\": [\n",
      "                {\n",
      "                    \"titulo\": \"Videoaula 1 - Modelos de processo de software e atividades de software\",\n",
      "                    \"numero\": 1,\n",
      "                    \"url\": \"https://www.youtube.com/embed/kO1PSkzTsYc\",\n",
      "                    \"thumb\": \"https://i.ytimg.com/vi_webp/kO1PSkzTsYc/default.webp\"\n",
      "                },\n",
      "                {\n",
      "                    \"titulo\": \"Videoaula 2 - Processo unificado\",\n",
      "                    \"numero\": 2,\n",
      "                    \"url\": \"https://www.youtube.com/embed/o-09AFlJZTo\",\n",
      "                    \"thumb\": \"https://i.ytimg.com/vi_webp/o-09AFlJZTo/default.webp\"\n",
      "                },\n",
      "                {\n",
      "                    \"titulo\": \"Videoaula 3 - Métodos ágeis, desenvolvimento ágil e dirigido a planos\",\n",
      "                    \"numero\": 3,\n",
      "                    \"url\": \"https://www.youtube.com/embed/3vwne84TMgI\",\n",
      "                    \"thumb\": \"https://i.ytimg.com/vi_webp/3vwne84TMgI/default.webp\"\n",
      "                },\n",
      "                {\n",
      "                    \"titulo\": \"Videoaula 4 - Programação extrema e escalamento de métodos ágeis\",\n",
      "                    \"numero\": 4,\n",
      "                    \"url\": \"https://www.youtube.com/embed/hF50lDTLYpo\",\n",
      "                    \"thumb\": \"https://i.ytimg.com/vi_webp/hF50lDTLYpo/default.webp\"\n",
      "                }\n",
      "            ],\n",
      "            \"semana_2\": [\n",
      "                {\n",
      "                    \"titulo\": \"Videoaula 5 - Tipos de requisitos\",\n",
      "                    \"numero\": 5,\n",
      "                    \"url\": \"https://www.youtube.com/embed/Pn93e2fgIro\",\n",
      "                    \"thumb\": \"https://i.ytimg.com/vi_webp/Pn93e2fgIro/default.webp\"\n",
      "                },\n",
      "                {\n",
      "                    \"titulo\": \"Videoaula 6 - Processo de engenharia de requisitos e especificação de requisitos\",\n",
      "                    \"numero\": 6,\n",
      "                    \"url\": \"https://www.youtube.com/embed/KT8HIqryUV8\",\n",
      "                    \"thumb\": \"https://i.ytimg.com/vi_webp/KT8HIqryUV8/default.webp\"\n",
      "                },\n",
      "                {\n",
      "                    \"titulo\": \"Videoaula 7 - Elicitação e análise de requisitos\",\n",
      "                    \"numero\": 7,\n",
      "                    \"url\": \"https://www.youtube.com/embed/ME0LrcqbeO0\",\n",
      "                    \"thumb\": \"https://i.ytimg.com/vi_webp/ME0LrcqbeO0/default.webp\"\n",
      "                },\n",
      "                {\n",
      "                    \"titulo\": \"Videoaula 8 - Validação e gerenciamento de requisitos\",\n",
      "                    \"numero\": 8,\n",
      "                    \"url\": \"https://www.youtube.com/embed/WOyF1_dEiTA\",\n",
      "                    \"thumb\": \"https://i.ytimg.com/vi_webp/WOyF1_dEiTA/default.webp\"\n",
      "                }\n",
      "            ]\n",
      "        }\n",
      "    },\n",
      "    \"Introdução aos Sistemas de Comunicação – EEL001\": {\n",
      "        \"titulo\": \"Introdução aos Sistemas de Comunicação – EEL001\",\n",
      "        \"link\": \"https://ava.univesp.br/ultra/courses/_4640_1/cl/outline\",\n",
      "        \"plano_de_aula\": \"https://ava.univesp.br/bbcswebdav/pid-606257-dt-content-rid-3904963_1/courses/EEL001-2021S2B1C2-T001/EEL001/Slides/Semana%200%20-%20Plano%20de%20Ensino%20-%20Introdu%C3%A7%C3%A3o%20aos%20Sistemas%20de%20Comunica%C3%A7%C3%A3o%20-%20EEl001%20(1)_rev..pdf\",\n",
      "        \"carga_horaria\": \"20\",\n",
      "        \"links_semanas\": {\n",
      "            \"semana_1\": \"https://ava.univesp.br/webapps/blackboard/content/listContent.jsp?course_id=_4640_1&content_id=_606255_1&mode=reset\",\n",
      "            \"semana_2\": \"https://ava.univesp.br/webapps/blackboard/content/listContent.jsp?course_id=_4640_1&content_id=_606244_1&mode=reset\"\n",
      "        },\n",
      "        \"videoaulas\": {\n",
      "            \"semana_1\": [\n",
      "                {\n",
      "                    \"titulo\": \"Videoaula 0 - Apresentação\",\n",
      "                    \"numero\": 0,\n",
      "                    \"url\": \"https://www.youtube.com/embed/Sh4c_WcPm44\",\n",
      "                    \"thumb\": \"https://i.ytimg.com/vi_webp/Sh4c_WcPm44/default.webp\"\n",
      "                },\n",
      "                {\n",
      "                    \"titulo\": \"Videoaula 1 - Sistemas de Comunicação Digital\",\n",
      "                    \"numero\": 1,\n",
      "                    \"url\": \"https://www.youtube.com/embed/_bFATlqUOHw\",\n",
      "                    \"thumb\": \"https://i.ytimg.com/vi_webp/_bFATlqUOHw/default.webp\"\n",
      "                }\n",
      "            ],\n",
      "            \"semana_2\": [\n",
      "                {\n",
      "                    \"titulo\": \"Videoaula – O Canal de Comunicação e seus Efeitos\",\n",
      "                    \"numero\": \"2\",\n",
      "                    \"url\": \"https://www.youtube.com/embed/qf_4gErr7Q4\",\n",
      "                    \"thumb\": \"https://i.ytimg.com/vi_webp/qf_4gErr7Q4/default.webp\"\n",
      "                }\n",
      "            ]\n",
      "        }\n",
      "    },\n",
      "    \"Modelos Probabilísticos para Computação – EEM101\": {\n",
      "        \"titulo\": \"Modelos Probabilísticos para Computação – EEM101\",\n",
      "        \"link\": \"https://ava.univesp.br/ultra/courses/_4644_1/cl/outline\",\n",
      "        \"plano_de_aula\": \"https://ava.univesp.br/bbcswebdav/xid-3656567_1\",\n",
      "        \"carga_horaria\": \"40\",\n",
      "        \"links_semanas\": {\n",
      "            \"semana_1\": \"https://ava.univesp.br/webapps/blackboard/content/listContent.jsp?course_id=_4644_1&content_id=_606810_1&mode=reset\",\n",
      "            \"semana_2\": \"https://ava.univesp.br/webapps/blackboard/content/listContent.jsp?course_id=_4644_1&content_id=_606809_1&mode=reset\"\n",
      "        },\n",
      "        \"videoaulas\": {\n",
      "            \"semana_1\": [\n",
      "                {\n",
      "                    \"titulo\": \"Videoaula 1 - Apresentação da disciplina\",\n",
      "                    \"numero\": 1,\n",
      "                    \"url\": \"https://www.youtube.com/embed/0YTjeoVjmkM?ecver=1\",\n",
      "                    \"thumb\": \"https://i.ytimg.com/vi_webp/0YTjeoVjmkM/default.webp\"\n",
      "                },\n",
      "                {\n",
      "                    \"titulo\": \"Videoaula 2 - Probabilidades\",\n",
      "                    \"numero\": 2,\n",
      "                    \"url\": \"https://www.youtube.com/embed/NInf5qNoVyk\",\n",
      "                    \"thumb\": \"https://i.ytimg.com/vi_webp/NInf5qNoVyk/default.webp\"\n",
      "                }\n",
      "            ],\n",
      "            \"semana_2\": [\n",
      "                {\n",
      "                    \"titulo\": \"Videoaula 3 - Variáveis aleatórias (parte 1)\",\n",
      "                    \"numero\": 3,\n",
      "                    \"url\": \"https://www.youtube.com/embed/_UQD5H_Vvks\",\n",
      "                    \"thumb\": \"https://i.ytimg.com/vi_webp/_UQD5H_Vvks/default.webp\"\n",
      "                }\n",
      "            ]\n",
      "        }\n",
      "    },\n",
      "    \"Projeto e Análise de Algoritmos – EEM002\": {\n",
      "        \"titulo\": \"Projeto e Análise de Algoritmos – EEM002\",\n",
      "        \"link\": \"https://ava.univesp.br/ultra/courses/_4642_1/cl/outline\",\n",
      "        \"plano_de_aula\": \"https://ava.univesp.br/bbcswebdav/xid-3349121_1\",\n",
      "        \"carga_horaria\": \"40\",\n",
      "        \"links_semanas\": {\n",
      "            \"semana_1\": \"https://ava.univesp.br/webapps/blackboard/content/listContent.jsp?course_id=_4642_1&content_id=_606532_1&mode=reset\",\n",
      "            \"semana_2\": \"https://ava.univesp.br/webapps/blackboard/content/listContent.jsp?course_id=_4642_1&content_id=_606531_1&mode=reset\"\n",
      "        },\n",
      "        \"videoaulas\": {\n",
      "            \"semana_1\": [\n",
      "                {\n",
      "                    \"titulo\": \"Videoaula 1 - Introdução ao projeto e análise de algoritmos\",\n",
      "                    \"numero\": 1,\n",
      "                    \"url\": \"https://www.youtube.com/embed/186lPQE-h64\",\n",
      "                    \"thumb\": \"https://i.ytimg.com/vi_webp/186lPQE-h64/default.webp\"\n",
      "                },\n",
      "                {\n",
      "                    \"titulo\": \"Videoaula 2 - Análise assintótica: ordens O, Ω e Θ (parte 1)\",\n",
      "                    \"numero\": 2,\n",
      "                    \"url\": \"https://www.youtube.com/embed/ojCAnD7vrOY\",\n",
      "                    \"thumb\": \"https://i.ytimg.com/vi_webp/ojCAnD7vrOY/default.webp\"\n",
      "                }\n",
      "            ],\n",
      "            \"semana_2\": [\n",
      "                {\n",
      "                    \"titulo\": \"Videoaula 3 - Análise assintótica: ordens O, Ω e Θ (parte 2)\",\n",
      "                    \"numero\": 3,\n",
      "                    \"url\": \"https://www.youtube.com/embed/DNX4sTlrfwo\",\n",
      "                    \"thumb\": \"https://i.ytimg.com/vi_webp/DNX4sTlrfwo/default.webp\"\n",
      "                },\n",
      "                {\n",
      "                    \"titulo\": \"Videoaula 4 - Divisão e conquista e equações de recorrência\",\n",
      "                    \"numero\": 4,\n",
      "                    \"url\": \"https://www.youtube.com/embed/eTYN65ap_cU\",\n",
      "                    \"thumb\": \"https://i.ytimg.com/vi_webp/eTYN65ap_cU/default.webp\"\n",
      "                }\n",
      "            ]\n",
      "        }\n",
      "    }\n",
      "}\n"
     ]
    }
   ],
   "metadata": {}
  },
  {
   "cell_type": "code",
   "execution_count": 237,
   "source": [
    "# salvar JSON para arquivo\r\n",
    "\r\n",
    "# reformatar Dict para {[\"titulo\": \"materia\"...]} ao inves de {\"materia\": {...}}\r\n",
    "saida = [{**{\"titulo\": i},**info_materias[i]} for i in info_materias.keys()]\r\n",
    "\r\n",
    "\r\n",
    "with open('info-materias.json', 'w') as f:\r\n",
    "  json.dump(saida, f)"
   ],
   "outputs": [],
   "metadata": {}
  },
  {
   "cell_type": "markdown",
   "source": [
    "## Testes"
   ],
   "metadata": {}
  },
  {
   "cell_type": "markdown",
   "source": [
    "----"
   ],
   "metadata": {}
  },
  {
   "cell_type": "code",
   "execution_count": null,
   "source": [
    "#gerarErro() # parar execução antes de fechar navegador"
   ],
   "outputs": [],
   "metadata": {}
  },
  {
   "cell_type": "markdown",
   "source": [
    "----"
   ],
   "metadata": {}
  },
  {
   "cell_type": "markdown",
   "source": [
    "## Encerra"
   ],
   "metadata": {}
  },
  {
   "cell_type": "code",
   "execution_count": null,
   "source": [
    "driver.close()\r\n",
    "driver.quit()"
   ],
   "outputs": [],
   "metadata": {}
  }
 ],
 "metadata": {
  "interpreter": {
   "hash": "63fd5069d213b44bf678585dea6b12cceca9941eaf7f819626cde1f2670de90d"
  },
  "kernelspec": {
   "display_name": "Python 3",
   "language": "python",
   "name": "python3"
  },
  "language_info": {
   "codemirror_mode": {
    "name": "ipython",
    "version": 3
   },
   "file_extension": ".py",
   "mimetype": "text/x-python",
   "name": "python",
   "nbconvert_exporter": "python",
   "pygments_lexer": "ipython3",
   "version": "3.9.2"
  }
 },
 "nbformat": 4,
 "nbformat_minor": 4
}